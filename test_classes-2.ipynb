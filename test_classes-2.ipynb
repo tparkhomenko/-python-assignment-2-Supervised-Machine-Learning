{
 "cells": [
  {
   "cell_type": "markdown",
   "metadata": {},
   "source": [
    "# Assignment 2: Supervised Machine Learning (Classification)\n",
    "\n",
    "\n",
    "\n"
   ]
  },
  {
   "cell_type": "code",
   "execution_count": 9,
   "metadata": {
    "pycharm": {
     "name": "#%%\n"
    }
   },
   "outputs": [
    {
     "name": "stdout",
     "output_type": "stream",
     "text": [
      "The autoreload extension is already loaded. To reload it, use:\n",
      "  %reload_ext autoreload\n"
     ]
    }
   ],
   "source": [
    "\n",
    "%load_ext autoreload\n",
    "%autoreload 2"
   ]
  },
  {
   "cell_type": "code",
   "execution_count": 10,
   "metadata": {},
   "outputs": [],
   "source": [
    "from config_reader import ConfigReader\n",
    "from dataset import Dataset\n",
    "from data_predictor import DataPredictor\n",
    "from evaluation_metrics import EvaluationMetrics\n",
    "import matplotlib as plt\n",
    "%matplotlib inline"
   ]
  },
  {
   "cell_type": "markdown",
   "metadata": {},
   "source": [
    "The three sklearn classifiers [_SVM_](https://scikit-learn.org/stable/modules/generated/sklearn.svm.SVC.html#sklearn.svm.SVC) (Support Vector Classification), [_Logistic Regression Classifier_](https://scikit-learn.org/stable/modules/generated/sklearn.linear_model.LogisticRegression.html), and [_Dummy Classifier_](https://scikit-learn.org/stable/modules/generated/sklearn.dummy.DummyClassifier.html) are imported to the notebook and instantiated. You should try additional classifiers from [sklearn](https://scikit-learn.org/stable/supervised_learning.html#supervised-learning) yourself.   \n",
    "**Don't forget** to import and add your own implementation of kNN!"
   ]
  },
  {
   "cell_type": "code",
   "execution_count": 11,
   "metadata": {},
   "outputs": [],
   "source": [
    "from sklearn import svm\n",
    "from sklearn.linear_model import LogisticRegression\n",
    "from sklearn.dummy import DummyClassifier\n",
    "from knn import kNN\n",
    "\n",
    "\n",
    "knn_clf = kNN(10)\n",
    "\n",
    "dummy_clf = DummyClassifier(strategy=\"most_frequent\")\n",
    "support_vector_clf = svm.SVC(kernel=\"linear\") \n",
    "logistic_regression_clf = LogisticRegression(random_state=0, max_iter=10000)\n"
   ]
  },
  {
   "cell_type": "markdown",
   "metadata": {},
   "source": [
    "## Heart Disease Dataset"
   ]
  },
  {
   "cell_type": "markdown",
   "metadata": {},
   "source": [
    "Let's try the classifiers on the Heart Disease Dataset, by passing the created classifier objects to ``DataPredictor``'s ``best_classifier`` method (add your additional classifier objects to the list here). For comparison and visualization, the methods ``print_evaluation_results`` and ``visualize_classification_results`` are called."
   ]
  },
  {
   "cell_type": "code",
   "execution_count": 12,
   "metadata": {},
   "outputs": [],
   "source": [
    "config_dict = ConfigReader.read_json_config(\"./config_heart_disease.json\")\n",
    "dataset = Dataset(config_dict)\n",
    "predictor = DataPredictor(dataset, config_dict)"
   ]
  },
  {
   "cell_type": "code",
   "execution_count": 13,
   "metadata": {
    "pycharm": {
     "name": "#%%\n"
    }
   },
   "outputs": [
    {
     "name": "stdout",
     "output_type": "stream",
     "text": [
      "\n",
      "Evaluation Summary:\n",
      "    Accuracy: 0.6666666666666666\n",
      "    Precision:\n",
      "        Class 0: 0.4                  Class 1: 1.0                  Class 2: 1.0\t\t\t\n",
      "    Recall:\n",
      "        Class 0: 1.0                  Class 1: 0.5                  Class 2: 0.6\t\t\t\n",
      "    F1 Score:\n",
      "        Class 0: 0.5714285714285715   Class 1: 0.6666666666666666   Class 2: 0.7499999999999999\t\t\t\t\n",
      "    True Positives:\n",
      "        Class 0: 2                    Class 1: 1                    Class 2: 3\t\t\t\t\n",
      "    True Negatives:\n",
      "        Class 0: 4                    Class 1: 7                    Class 2: 4\t\t\t\t\n",
      "    False Positives:\n",
      "        Class 0: 3                    Class 1: 0                    Class 2: 0\t\t\n",
      "    False Negatives:\n",
      "        Class 0: 0                    Class 1: 1                    Class 2: 2\t\n",
      "\n",
      "[[2 0 0]\n",
      " [1 1 0]\n",
      " [2 0 3]]\n"
     ]
    }
   ],
   "source": [
    "import numpy as np\n",
    "dataset.split_data(impute_strategy='mean')\n",
    "e = EvaluationMetrics(np.array([0, 1, 1, 0, 2, 2, 2, 2, 2]), np.array([0, 1, 0, 0, 2, 2, 2, 0, 0]))\n",
    "print(e)\n",
    "print(e.confusion_matrix)"
   ]
  },
  {
   "cell_type": "code",
   "execution_count": 14,
   "metadata": {},
   "outputs": [
    {
     "name": "stdout",
     "output_type": "stream",
     "text": [
      "\n",
      "Evaluation Summary:\n",
      "    Accuracy: 0.8026315789473685\n",
      "    Precision:\n",
      "        Class 0: 0.7985074626865671   Class 1: 0.8058823529411765\t\t\t\n",
      "    Recall:\n",
      "        Class 0: 0.7642857142857142   Class 1: 0.8353658536585366\t\t\t\n",
      "    F1 Score:\n",
      "        Class 0: 0.7810218978102189   Class 1: 0.8203592814371258\t\t\t\t\n",
      "    True Positives:\n",
      "        Class 0: 107                  Class 1: 137\t\t\t\t\n",
      "    True Negatives:\n",
      "        Class 0: 137                  Class 1: 107\t\t\t\t\n",
      "    False Positives:\n",
      "        Class 0: 27                   Class 1: 33\t\t\n",
      "    False Negatives:\n",
      "        Class 0: 33                   Class 1: 27\t\n",
      "\n",
      "[0.5394736842105263, 0.7105263157894737, 0.8026315789473685, 0.8026315789473685]\n",
      "['DummyClassifier', 'kNN', 'SVC', 'LogisticRegression']\n"
     ]
    },
    {
     "data": {
      "text/plain": "<Figure size 432x288 with 2 Axes>",
      "image/png": "[encoded data removed]"
     },
     "metadata": {
      "needs_background": "light"
     },
     "output_type": "display_data"
    },
    {
     "data": {
      "text/plain": "<Figure size 432x288 with 1 Axes>",
      "image/png": "[encoded data removed]"
     },
     "metadata": {
      "needs_background": "light"
     },
     "output_type": "display_data"
    }
   ],
   "source": [
    "best_classifier = predictor.best_classifier([dummy_clf, support_vector_clf, logistic_regression_clf, knn_clf])\n",
    "predictor.print_evaluation_results()\n",
    "predictor.visualize_classification_results()"
   ]
  },
  {
   "cell_type": "markdown",
   "metadata": {},
   "source": [
    "## Parkinson Speech Dataset"
   ]
  },
  {
   "cell_type": "markdown",
   "metadata": {},
   "source": [
    "Now with the Parkinson Speech Dataset, again the created classifier objects are passed to ``DataPredictor``'s ``best_classifier`` method (add your additional classifier objects to the list here). For comparison and visualization, the methods ``print_evaluation_results`` and ``visualize_classification_results`` are called."
   ]
  },
  {
   "cell_type": "code",
   "execution_count": 15,
   "metadata": {},
   "outputs": [],
   "source": [
    "config_dict = ConfigReader.read_json_config(\"./config_parkinson_sound_recording.json\")\n",
    "dataset = Dataset(config_dict)\n",
    "predictor = DataPredictor(dataset, config_dict)"
   ]
  },
  {
   "cell_type": "code",
   "execution_count": 16,
   "metadata": {},
   "outputs": [
    {
     "name": "stdout",
     "output_type": "stream",
     "text": [
      "\n",
      "Evaluation Summary:\n",
      "    Accuracy: 0.6441102756892231\n",
      "    Precision:\n",
      "        Class 0: 0.5978260869565217   Class 1: 0.6837209302325581\t\t\t\n",
      "    Recall:\n",
      "        Class 0: 0.6179775280898876   Class 1: 0.665158371040724\t\t\t\n",
      "    F1 Score:\n",
      "        Class 0: 0.6077348066298343   Class 1: 0.6743119266055045\t\t\t\t\n",
      "    True Positives:\n",
      "        Class 0: 110                  Class 1: 147\t\t\t\t\n",
      "    True Negatives:\n",
      "        Class 0: 147                  Class 1: 110\t\t\t\t\n",
      "    False Positives:\n",
      "        Class 0: 74                   Class 1: 68\t\t\n",
      "    False Negatives:\n",
      "        Class 0: 68                   Class 1: 74\t\n",
      "\n"
     ]
    },
    {
     "ename": "ValueError",
     "evalue": "plot_confusion_matrix only supports classifiers",
     "output_type": "error",
     "traceback": [
      "\u001B[0;31m---------------------------------------------------------------------------\u001B[0m",
      "\u001B[0;31mValueError\u001B[0m                                Traceback (most recent call last)",
      "\u001B[0;32m<ipython-input-16-66ef2f7d9696>\u001B[0m in \u001B[0;36m<module>\u001B[0;34m\u001B[0m\n\u001B[1;32m      1\u001B[0m \u001B[0mbest_classifier\u001B[0m \u001B[0;34m=\u001B[0m \u001B[0mpredictor\u001B[0m\u001B[0;34m.\u001B[0m\u001B[0mbest_classifier\u001B[0m\u001B[0;34m(\u001B[0m\u001B[0;34m[\u001B[0m\u001B[0mdummy_clf\u001B[0m\u001B[0;34m,\u001B[0m \u001B[0mknn_clf\u001B[0m\u001B[0;34m]\u001B[0m\u001B[0;34m)\u001B[0m\u001B[0;31m#, support_vector_clf, logistic_regression_clf])\u001B[0m\u001B[0;34m\u001B[0m\u001B[0;34m\u001B[0m\u001B[0m\n\u001B[1;32m      2\u001B[0m \u001B[0mpredictor\u001B[0m\u001B[0;34m.\u001B[0m\u001B[0mprint_evaluation_results\u001B[0m\u001B[0;34m(\u001B[0m\u001B[0;34m)\u001B[0m\u001B[0;34m\u001B[0m\u001B[0;34m\u001B[0m\u001B[0m\n\u001B[0;32m----> 3\u001B[0;31m \u001B[0mpredictor\u001B[0m\u001B[0;34m.\u001B[0m\u001B[0mvisualize_classification_results\u001B[0m\u001B[0;34m(\u001B[0m\u001B[0;34m)\u001B[0m\u001B[0;34m\u001B[0m\u001B[0;34m\u001B[0m\u001B[0m\n\u001B[0m\u001B[1;32m      4\u001B[0m \u001B[0;34m\u001B[0m\u001B[0m\n",
      "\u001B[0;32m~/PycharmProjects/python-assignment-2/data_predictor.py\u001B[0m in \u001B[0;36mvisualize_classification_results\u001B[0;34m(self)\u001B[0m\n\u001B[1;32m     32\u001B[0m     \u001B[0;32mdef\u001B[0m \u001B[0mvisualize_classification_results\u001B[0m\u001B[0;34m(\u001B[0m\u001B[0mself\u001B[0m\u001B[0;34m)\u001B[0m\u001B[0;34m:\u001B[0m\u001B[0;34m\u001B[0m\u001B[0;34m\u001B[0m\u001B[0m\n\u001B[1;32m     33\u001B[0m         \u001B[0mpath\u001B[0m \u001B[0;34m=\u001B[0m \u001B[0mself\u001B[0m\u001B[0;34m.\u001B[0m\u001B[0m_config_info_dict\u001B[0m\u001B[0;34m[\u001B[0m\u001B[0;34m'classification_output_folder'\u001B[0m\u001B[0;34m]\u001B[0m\u001B[0;34m\u001B[0m\u001B[0;34m\u001B[0m\u001B[0m\n\u001B[0;32m---> 34\u001B[0;31m         \u001B[0mp1\u001B[0m \u001B[0;34m=\u001B[0m \u001B[0mplot_confusion_matrix\u001B[0m\u001B[0;34m(\u001B[0m\u001B[0mself\u001B[0m\u001B[0;34m.\u001B[0m\u001B[0m_classifier_results\u001B[0m\u001B[0;34m[\u001B[0m\u001B[0;34m-\u001B[0m\u001B[0;36m1\u001B[0m\u001B[0;34m]\u001B[0m\u001B[0;34m[\u001B[0m\u001B[0;34m'fitted'\u001B[0m\u001B[0;34m]\u001B[0m\u001B[0;34m,\u001B[0m \u001B[0mself\u001B[0m\u001B[0;34m.\u001B[0m\u001B[0m_features_test\u001B[0m\u001B[0;34m,\u001B[0m \u001B[0mself\u001B[0m\u001B[0;34m.\u001B[0m\u001B[0m_target_test\u001B[0m\u001B[0;34m)\u001B[0m\u001B[0;34m\u001B[0m\u001B[0;34m\u001B[0m\u001B[0m\n\u001B[0m\u001B[1;32m     35\u001B[0m         \u001B[0mplt\u001B[0m\u001B[0;34m.\u001B[0m\u001B[0msavefig\u001B[0m\u001B[0;34m(\u001B[0m\u001B[0mpath\u001B[0m \u001B[0;34m+\u001B[0m \u001B[0;34m'/confusion_matrices.png'\u001B[0m\u001B[0;34m)\u001B[0m\u001B[0;34m\u001B[0m\u001B[0;34m\u001B[0m\u001B[0m\n\u001B[1;32m     36\u001B[0m         \u001B[0maccuracy\u001B[0m \u001B[0;34m=\u001B[0m \u001B[0;34m[\u001B[0m\u001B[0;34m]\u001B[0m\u001B[0;34m\u001B[0m\u001B[0;34m\u001B[0m\u001B[0m\n",
      "\u001B[0;32m~/Documents/ALL/BIMECH/Rita/python-assignment-2/lib/python3.7/site-packages/sklearn/utils/validation.py\u001B[0m in \u001B[0;36minner_f\u001B[0;34m(*args, **kwargs)\u001B[0m\n\u001B[1;32m     61\u001B[0m             \u001B[0mextra_args\u001B[0m \u001B[0;34m=\u001B[0m \u001B[0mlen\u001B[0m\u001B[0;34m(\u001B[0m\u001B[0margs\u001B[0m\u001B[0;34m)\u001B[0m \u001B[0;34m-\u001B[0m \u001B[0mlen\u001B[0m\u001B[0;34m(\u001B[0m\u001B[0mall_args\u001B[0m\u001B[0;34m)\u001B[0m\u001B[0;34m\u001B[0m\u001B[0;34m\u001B[0m\u001B[0m\n\u001B[1;32m     62\u001B[0m             \u001B[0;32mif\u001B[0m \u001B[0mextra_args\u001B[0m \u001B[0;34m<=\u001B[0m \u001B[0;36m0\u001B[0m\u001B[0;34m:\u001B[0m\u001B[0;34m\u001B[0m\u001B[0;34m\u001B[0m\u001B[0m\n\u001B[0;32m---> 63\u001B[0;31m                 \u001B[0;32mreturn\u001B[0m \u001B[0mf\u001B[0m\u001B[0;34m(\u001B[0m\u001B[0;34m*\u001B[0m\u001B[0margs\u001B[0m\u001B[0;34m,\u001B[0m \u001B[0;34m**\u001B[0m\u001B[0mkwargs\u001B[0m\u001B[0;34m)\u001B[0m\u001B[0;34m\u001B[0m\u001B[0;34m\u001B[0m\u001B[0m\n\u001B[0m\u001B[1;32m     64\u001B[0m \u001B[0;34m\u001B[0m\u001B[0m\n\u001B[1;32m     65\u001B[0m             \u001B[0;31m# extra_args > 0\u001B[0m\u001B[0;34m\u001B[0m\u001B[0;34m\u001B[0m\u001B[0;34m\u001B[0m\u001B[0m\n",
      "\u001B[0;32m~/Documents/ALL/BIMECH/Rita/python-assignment-2/lib/python3.7/site-packages/sklearn/metrics/_plot/confusion_matrix.py\u001B[0m in \u001B[0;36mplot_confusion_matrix\u001B[0;34m(estimator, X, y_true, labels, sample_weight, normalize, display_labels, include_values, xticks_rotation, values_format, cmap, ax, colorbar)\u001B[0m\n\u001B[1;32m    259\u001B[0m \u001B[0;34m\u001B[0m\u001B[0m\n\u001B[1;32m    260\u001B[0m     \u001B[0;32mif\u001B[0m \u001B[0;32mnot\u001B[0m \u001B[0mis_classifier\u001B[0m\u001B[0;34m(\u001B[0m\u001B[0mestimator\u001B[0m\u001B[0;34m)\u001B[0m\u001B[0;34m:\u001B[0m\u001B[0;34m\u001B[0m\u001B[0;34m\u001B[0m\u001B[0m\n\u001B[0;32m--> 261\u001B[0;31m         \u001B[0;32mraise\u001B[0m \u001B[0mValueError\u001B[0m\u001B[0;34m(\u001B[0m\u001B[0;34m\"plot_confusion_matrix only supports classifiers\"\u001B[0m\u001B[0;34m)\u001B[0m\u001B[0;34m\u001B[0m\u001B[0;34m\u001B[0m\u001B[0m\n\u001B[0m\u001B[1;32m    262\u001B[0m \u001B[0;34m\u001B[0m\u001B[0m\n\u001B[1;32m    263\u001B[0m     \u001B[0my_pred\u001B[0m \u001B[0;34m=\u001B[0m \u001B[0mestimator\u001B[0m\u001B[0;34m.\u001B[0m\u001B[0mpredict\u001B[0m\u001B[0;34m(\u001B[0m\u001B[0mX\u001B[0m\u001B[0;34m)\u001B[0m\u001B[0;34m\u001B[0m\u001B[0;34m\u001B[0m\u001B[0m\n",
      "\u001B[0;31mValueError\u001B[0m: plot_confusion_matrix only supports classifiers"
     ]
    }
   ],
   "source": [
    "best_classifier = predictor.best_classifier([dummy_clf, knn_clf])#, support_vector_clf, logistic_regression_clf])\n",
    "predictor.print_evaluation_results()\n",
    "predictor.visualize_classification_results()"
   ]
  },
  {
   "cell_type": "code",
   "execution_count": null,
   "metadata": {},
   "outputs": [],
   "source": [
    "import knn\n",
    "r = np.random.rand(2,5)\n",
    "s = np.random.randint(2, size=2)\n",
    "k = knn.kNN(3)\n",
    "k.fit(r,s)\n",
    "k._point_predict(np.zeros(5))\n",
    "#knn.kNN._point_predict(r,s)\n",
    "_classifier_results()"
   ]
  }
 ],
 "metadata": {
  "kernelspec": {
   "display_name": "Python 3",
   "language": "python",
   "name": "python3"
  },
  "language_info": {
   "codemirror_mode": {
    "name": "ipython",
    "version": 3
   },
   "file_extension": ".py",
   "mimetype": "text/x-python",
   "name": "python",
   "nbconvert_exporter": "python",
   "pygments_lexer": "ipython3",
   "version": "3.7.1"
  }
 },
 "nbformat": 4,
 "nbformat_minor": 4
}